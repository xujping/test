{
  "nbformat": 4,
  "nbformat_minor": 0,
  "metadata": {
    "colab": {
      "name": "「Ping數學和設計5.ipynb」的副本",
      "provenance": [],
      "collapsed_sections": [],
      "include_colab_link": true
    },
    "kernelspec": {
      "name": "python3",
      "display_name": "Python 3"
    },
    "language_info": {
      "name": "python"
    }
  },
  "cells": [
    {
      "cell_type": "markdown",
      "metadata": {
        "id": "view-in-github",
        "colab_type": "text"
      },
      "source": [
        "<a href=\"https://colab.research.google.com/github/xujping/test/blob/main/Ping%E6%95%B8%E5%AD%B8%E5%92%8C%E8%A8%AD%E8%A8%885_ipynb\" target=\"_parent\"><img src=\"https://colab.research.google.com/assets/colab-badge.svg\" alt=\"Open In Colab\"/></a>"
      ]
    },
    {
      "cell_type": "code",
      "metadata": {
        "id": "inWeKCrs-aa-"
      },
      "source": [
        "from PIL import Image\n",
        "import PIL\n",
        "import matplotlib.pyplot as plt\n",
        "import pylab"
      ],
      "execution_count": null,
      "outputs": []
    },
    {
      "cell_type": "code",
      "metadata": {
        "id": "9nwid0iV8FnG"
      },
      "source": [
        "from google.colab import drive\n",
        "drive.mount('/content/drive')"
      ],
      "execution_count": null,
      "outputs": []
    },
    {
      "cell_type": "markdown",
      "metadata": {
        "id": "CHkET7zVAtuS"
      },
      "source": [
        "向右漸層改變顏色"
      ]
    },
    {
      "cell_type": "code",
      "metadata": {
        "colab": {
          "base_uri": "https://localhost:8080/",
          "height": 217
        },
        "id": "oKL_ZxSX-gWg",
        "outputId": "d3d7f970-5b6d-42fe-9af1-6a6a07892e9e"
      },
      "source": [
        "m, n = 10, 10\n",
        "new = Image.new('RGB',(m,n),(255,255,255))\n",
        "for i in range(m):\n",
        "  for j in range(n):\n",
        "    new.putpixel((i,j),(20*i,0,150))\n",
        "#new\n",
        "new.resize((200,200),resample=PIL.Image.BOX)"
      ],
      "execution_count": null,
      "outputs": [
        {
          "output_type": "execute_result",
          "data": {
            "image/png": "[encoded data removed]",
            "text/plain": [
              "<PIL.Image.Image image mode=RGB size=200x200 at 0x7F8FC8323510>"
            ]
          },
          "metadata": {},
          "execution_count": 6
        }
      ]
    },
    {
      "cell_type": "markdown",
      "metadata": {
        "id": "hSRTc8aFAx_K"
      },
      "source": [
        "向左漸層改變顏色"
      ]
    },
    {
      "cell_type": "code",
      "metadata": {
        "colab": {
          "base_uri": "https://localhost:8080/",
          "height": 217
        },
        "id": "dviwZAYyAxKy",
        "outputId": "ec9eb681-6d4d-4ce9-a09f-ad73fc25be07"
      },
      "source": [
        "m, n = 10, 10\n",
        "new = Image.new('RGB',(m,n),(255,255,255))\n",
        "for i in range(m):\n",
        "  for j in range(n):\n",
        "    new.putpixel((n-i-1,j),(20*i,0,150))\n",
        "#new\n",
        "new.resize((200,200),resample=PIL.Image.BOX)"
      ],
      "execution_count": null,
      "outputs": [
        {
          "output_type": "execute_result",
          "data": {
            "image/png": "[encoded data removed]",
            "text/plain": [
              "<PIL.Image.Image image mode=RGB size=200x200 at 0x7F8FC8281E50>"
            ]
          },
          "metadata": {},
          "execution_count": 8
        }
      ]
    },
    {
      "cell_type": "markdown",
      "metadata": {
        "id": "j7wO1MibA9GO"
      },
      "source": [
        "向下漸層改變顏色"
      ]
    },
    {
      "cell_type": "code",
      "metadata": {
        "colab": {
          "base_uri": "https://localhost:8080/",
          "height": 217
        },
        "id": "RFFxQ9_nANFw",
        "outputId": "ec08c182-f224-473b-d996-f5f831d1a3ec"
      },
      "source": [
        "m, n = 10, 10\n",
        "new = Image.new('RGB',(m,n),(255,255,255))\n",
        "for i in range(m):\n",
        "  for j in range(n):\n",
        "    new.putpixel((j,i),(20*i,0,150))\n",
        "#new\n",
        "new.resize((200,200),resample=PIL.Image.BOX)"
      ],
      "execution_count": null,
      "outputs": [
        {
          "output_type": "execute_result",
          "data": {
            "image/png": "[encoded data removed]",
            "text/plain": [
              "<PIL.Image.Image image mode=RGB size=200x200 at 0x7F8FC8282750>"
            ]
          },
          "metadata": {},
          "execution_count": 9
        }
      ]
    },
    {
      "cell_type": "markdown",
      "metadata": {
        "id": "wBWtSgT8BFzo"
      },
      "source": [
        "向上漸層改變顏色\n"
      ]
    },
    {
      "cell_type": "code",
      "metadata": {
        "colab": {
          "base_uri": "https://localhost:8080/",
          "height": 217
        },
        "id": "AbA47T3LBD0F",
        "outputId": "9c199ea9-0f8b-4b84-b2a3-f7b6a85290a5"
      },
      "source": [
        "m, n = 10, 10\n",
        "new = Image.new('RGB',(m,n),(255,255,255))\n",
        "for i in range(m):\n",
        "  for j in range(n):\n",
        "    new.putpixel((j,m-i-1),(20*i,0,150))\n",
        "#new\n",
        "new.resize((200,200),resample=PIL.Image.BOX)"
      ],
      "execution_count": null,
      "outputs": [
        {
          "output_type": "execute_result",
          "data": {
            "image/png": "[encoded data removed]",
            "text/plain": [
              "<PIL.Image.Image image mode=RGB size=200x200 at 0x7F8FC8282850>"
            ]
          },
          "metadata": {},
          "execution_count": 10
        }
      ]
    },
    {
      "cell_type": "markdown",
      "metadata": {
        "id": "wqFyQAcuBO33"
      },
      "source": [
        "沿45度角改變顏色\n"
      ]
    },
    {
      "cell_type": "code",
      "metadata": {
        "colab": {
          "base_uri": "https://localhost:8080/",
          "height": 217
        },
        "id": "Aj_Hm4rOBNKq",
        "outputId": "50c552fd-0736-408e-8c12-758553b1ca6a"
      },
      "source": [
        "m, n = 10, 10\n",
        "new = Image.new('RGB',(m,n),(255,255,255))\n",
        "for i in range(m):\n",
        "  for j in range(n):\n",
        "    new.putpixel((i,j),(20*(i+j),0,150))\n",
        "#new\n",
        "new.resize((200,200),resample=PIL.Image.BOX)"
      ],
      "execution_count": null,
      "outputs": [
        {
          "output_type": "execute_result",
          "data": {
            "image/png": "[encoded data removed]",
            "text/plain": [
              "<PIL.Image.Image image mode=RGB size=200x200 at 0x7F8FC8283910>"
            ]
          },
          "metadata": {},
          "execution_count": 12
        }
      ]
    },
    {
      "cell_type": "code",
      "metadata": {
        "colab": {
          "base_uri": "https://localhost:8080/",
          "height": 217
        },
        "id": "l454xw5pBwJC",
        "outputId": "18ae0219-0c7c-4924-c1cb-741745a3c2a5"
      },
      "source": [
        "m, n = 10, 10\n",
        "new = Image.new('RGB',(m,n),(255,255,255))\n",
        "for i in range(m):\n",
        "  for j in range(n):\n",
        "    new.putpixel((i,j),(20*(18-i-j),0,150))\n",
        "#new\n",
        "new.resize((200,200),resample=PIL.Image.BOX)"
      ],
      "execution_count": null,
      "outputs": [
        {
          "output_type": "execute_result",
          "data": {
            "image/png": "[encoded data removed]",
            "text/plain": [
              "<PIL.Image.Image image mode=RGB size=200x200 at 0x7F8FC8293590>"
            ]
          },
          "metadata": {},
          "execution_count": 14
        }
      ]
    },
    {
      "cell_type": "code",
      "metadata": {
        "colab": {
          "base_uri": "https://localhost:8080/",
          "height": 217
        },
        "id": "0sSUh2QuB5c6",
        "outputId": "b5e71150-e1e5-4d6f-ef63-d94729c040dd"
      },
      "source": [
        "from PIL import Image\n",
        "import PIL\n",
        "m, n = 10, 10\n",
        "new = Image.new('RGB',(m,n),(255,255,255))\n",
        "for i in range(m):\n",
        "  for j in range(n):\n",
        "    if i**2==j:\n",
        "      new.putpixel((i,j),(255,0,0))\n",
        "new.resize((200,200),resample=PIL.Image.BOX)\n"
      ],
      "execution_count": null,
      "outputs": [
        {
          "output_type": "execute_result",
          "data": {
            "image/png": "[encoded data removed]",
            "text/plain": [
              "<PIL.Image.Image image mode=RGB size=200x200 at 0x7F8FC829A7D0>"
            ]
          },
          "metadata": {},
          "execution_count": 15
        }
      ]
    },
    {
      "cell_type": "code",
      "metadata": {
        "colab": {
          "base_uri": "https://localhost:8080/",
          "height": 217
        },
        "id": "EowS6wHMJT8V",
        "outputId": "e4975e59-ef4b-49a9-dd7e-42c5ab69aee5"
      },
      "source": [
        "from PIL import Image\n",
        "m, n = 100, 100\n",
        "new = Image.new('RGB',(m,n),(255,255,255))\n",
        "for i in range(m):\n",
        "  for j in range(n):\n",
        "    if (i**2-j)%10==0:\n",
        "      new.putpixel((i,j),(100,255,100))\n",
        "new.resize((200,200),resample=PIL.Image.BOX)"
      ],
      "execution_count": null,
      "outputs": [
        {
          "output_type": "execute_result",
          "data": {
            "image/png": "[encoded data removed]",
            "text/plain": [
              "<PIL.Image.Image image mode=RGB size=200x200 at 0x7F8FC8282450>"
            ]
          },
          "metadata": {},
          "execution_count": 18
        }
      ]
    },
    {
      "cell_type": "code",
      "metadata": {
        "colab": {
          "base_uri": "https://localhost:8080/",
          "height": 217
        },
        "id": "yxCvYZD1JxA_",
        "outputId": "6ea18486-50f7-47d0-ffcc-523d3b0c06da"
      },
      "source": [
        "from PIL import Image\n",
        "m, n = 100, 100\n",
        "new=Image.new('RGB',(m,n),(255,255,255))\n",
        "for i in range(m):\n",
        "  for j in range(n):\n",
        "    if 4<(i**2-j**3)%10<8:\n",
        "      new.putpixel((i,j),(0,0,0))\n",
        "new.resize((200,200),resample=PIL.Image.BOX)"
      ],
      "execution_count": null,
      "outputs": [
        {
          "output_type": "execute_result",
          "data": {
            "image/png": "[encoded data removed]",
            "text/plain": [
              "<PIL.Image.Image image mode=RGB size=200x200 at 0x7F8FC82A58D0>"
            ]
          },
          "metadata": {},
          "execution_count": 19
        }
      ]
    },
    {
      "cell_type": "markdown",
      "metadata": {
        "id": "ASbaa2uqLTDD"
      },
      "source": [
        "花窗"
      ]
    },
    {
      "cell_type": "code",
      "metadata": {
        "colab": {
          "base_uri": "https://localhost:8080/",
          "height": 286
        },
        "id": "G8IJhX0sTtwb",
        "outputId": "0c682bc2-ca16-49f1-c155-5b9c51f19308"
      },
      "source": [
        "import matplotlib.pyplot as plt\n",
        "\n",
        "figure, axes = plt.subplots()\n",
        "draw_circle = plt.Circle((0.5, 0.5), 0.3,fill=False)\n",
        "\n",
        "axes.set_aspect(1)\n",
        "axes.add_artist(draw_circle)\n",
        "#plt.title('Circle')\n",
        "#plt.show()"
      ],
      "execution_count": null,
      "outputs": [
        {
          "output_type": "execute_result",
          "data": {
            "text/plain": [
              "<matplotlib.patches.Circle at 0x7f8fc7b55e50>"
            ]
          },
          "metadata": {},
          "execution_count": 47
        },
        {
          "output_type": "display_data",
          "data": {
            "image/png": "[encoded data removed]",
            "text/plain": [
              "<Figure size 432x288 with 1 Axes>"
            ]
          },
          "metadata": {
            "needs_background": "light"
          }
        }
      ]
    },
    {
      "cell_type": "code",
      "metadata": {
        "colab": {
          "base_uri": "https://localhost:8080/",
          "height": 265
        },
        "id": "jRsvqhZLUdNK",
        "outputId": "c481570a-4cfa-486f-d930-bbf3c2d03239"
      },
      "source": [
        "import numpy as np\n",
        "import matplotlib.pyplot as plt\n",
        "\n",
        "x = np.linspace(-0.5, 0.5, 100)\n",
        "y = np.linspace(-0.5, 0.5, 100)\n",
        "a, b = np.meshgrid(x, y)\n",
        "C = a**2+b**2-0.2\n",
        "\n",
        "figure, axes = plt.subplots()\n",
        "\n",
        "axes.contour(a,b,C,[0])\n",
        "axes.set_aspect(1)\n",
        "\n",
        "plt.show()"
      ],
      "execution_count": null,
      "outputs": [
        {
          "output_type": "display_data",
          "data": {
            "image/png": "[encoded data removed]",
            "text/plain": [
              "<Figure size 432x288 with 1 Axes>"
            ]
          },
          "metadata": {
            "needs_background": "light"
          }
        }
      ]
    },
    {
      "cell_type": "code",
      "metadata": {
        "colab": {
          "base_uri": "https://localhost:8080/",
          "height": 117
        },
        "id": "0PFZClXSMkCk",
        "outputId": "65e25789-663d-4762-ccd3-a41f0612fbd0"
      },
      "source": [
        "from PIL import Image\n",
        "import PIL\n",
        "m, n = 10, 10\n",
        "new=Image.new('RGB',(m,n),(0,0,0))\n",
        "for i in range(m):     \n",
        "  for j in range(n):\n",
        "    if i**2+j**2==25:\n",
        "\n",
        "#    if i==1 or j==1 or i==8 or j==8 or i**2+j**2==25 or (i-9)**2+j**2==25 or i**2+(j-9)**2==25 or (i-9)**2+(j-9)**2==25 :\n",
        "      new.putpixel((i,j),(0,255,0))\n",
        "new.resize((100,100),resample=PIL.Image.BOX)\n",
        "#new\n"
      ],
      "execution_count": null,
      "outputs": [
        {
          "output_type": "execute_result",
          "data": {
            "image/png": "[encoded data removed]",
            "text/plain": [
              "<PIL.Image.Image image mode=RGB size=100x100 at 0x7F8FC829A290>"
            ]
          },
          "metadata": {},
          "execution_count": 35
        }
      ]
    },
    {
      "cell_type": "code",
      "metadata": {
        "id": "8mheMiFSVi27",
        "colab": {
          "base_uri": "https://localhost:8080/",
          "height": 117
        },
        "outputId": "4503c295-85ad-46d7-e776-43eb7d9ae12b"
      },
      "source": [
        "from PIL import Image\n",
        "import PIL\n",
        "m, n = 10, 10\n",
        "new=Image.new('RGB',(m,n),(0,0,0))\n",
        "for i in range(m):     \n",
        "  for j in range(n):\n",
        "    if i==1 or j==1 or i==8 or j==8 :\n",
        "\n",
        "#    if i==1 or j==1 or i==8 or j==8 or i**2+j**2==25 or (i-9)**2+j**2==25 or i**2+(j-9)**2==25 or (i-9)**2+(j-9)**2==25 :\n",
        "      new.putpixel((i,j),(0,255,0))\n",
        "new.resize((100,100),resample=PIL.Image.BOX)\n",
        "#new"
      ],
      "execution_count": null,
      "outputs": [
        {
          "output_type": "execute_result",
          "data": {
            "image/png": "[encoded data removed]",
            "text/plain": [
              "<PIL.Image.Image image mode=RGB size=100x100 at 0x7F8FC7838ED0>"
            ]
          },
          "metadata": {},
          "execution_count": 65
        }
      ]
    },
    {
      "cell_type": "code",
      "metadata": {
        "colab": {
          "base_uri": "https://localhost:8080/",
          "height": 117
        },
        "id": "aCrc6mf1XoVx",
        "outputId": "0733f4ed-19e3-4f24-a9c1-57d150c571b4"
      },
      "source": [
        "from PIL import Image\n",
        "import PIL\n",
        "m, n = 10, 10\n",
        "new=Image.new('RGB',(m,n),(0,0,0))\n",
        "for i in range(m):     \n",
        "  for j in range(n):\n",
        "    if i==0 or j==0 or i==9 or j==9 or i+j==7 or i+j==11: #or i-j+2==0 or i-j-2==0 :\n",
        "\n",
        "#    if i==1 or j==1 or i==8 or j==8 or i**2+j**2==25 or (i-9)**2+j**2==25 or i**2+(j-9)**2==25 or (i-9)**2+(j-9)**2==25 :\n",
        "      new.putpixel((i,j),(0,255,0))\n",
        "new.resize((100,100),resample=PIL.Image.BOX)\n",
        "#new"
      ],
      "execution_count": null,
      "outputs": [
        {
          "output_type": "execute_result",
          "data": {
            "image/png": "[encoded data removed]",
            "text/plain": [
              "<PIL.Image.Image image mode=RGB size=100x100 at 0x7F8FC7D328D0>"
            ]
          },
          "metadata": {},
          "execution_count": 71
        }
      ]
    },
    {
      "cell_type": "code",
      "metadata": {
        "colab": {
          "base_uri": "https://localhost:8080/",
          "height": 265
        },
        "id": "o5vVXb8sdoRm",
        "outputId": "acb1e337-0f6a-4ea4-9b1b-5dd96a09738e"
      },
      "source": [
        "import matplotlib.pyplot as plt\n",
        "plt.figure(facecolor='blue')\n",
        "xs = pylab.linspace(-5,5,100)\n",
        "ys1 = [(25-x**2)**0.5 for x in xs]\n",
        "ys2 = [(-1)*(25-x**2)**0.5 for x in xs]\n",
        "ys3 = [1 for x in xs]\n",
        "ys4 = [-1 for x in xs]\n",
        "plt.plot(xs, ys1,color='w',lw=10)\n",
        "plt.plot(xs, ys2,color='w',lw=10)\n",
        "plt.plot(xs,ys3,color='w',lw=10)\n",
        "plt.plot(xs,ys4,color='w',lw=10)\n",
        "plt.plot(ys3,xs,color='w',lw=10)\n",
        "plt.plot(ys4,xs,color='w',lw=10)\n",
        "plt.axis('off')\n",
        "plt.axis('equal')"
      ],
      "execution_count": null,
      "outputs": [
        {
          "output_type": "execute_result",
          "data": {
            "text/plain": [
              "(-5.5, 5.5, -5.5, 5.5)"
            ]
          },
          "metadata": {},
          "execution_count": 6
        },
        {
          "output_type": "display_data",
          "data": {
            "image/png": "[encoded data removed]",
            "text/plain": [
              "<Figure size 432x288 with 1 Axes>"
            ]
          },
          "metadata": {}
        }
      ]
    },
    {
      "cell_type": "code",
      "metadata": {
        "colab": {
          "base_uri": "https://localhost:8080/",
          "height": 265
        },
        "id": "UZ4zYzta_C67",
        "outputId": "2efeda61-e84b-4c02-d9f4-890d4e1bba5f"
      },
      "source": [
        "import matplotlib.pyplot as plt\n",
        "plt.figure(facecolor='blue')#edgecolor='black')\n",
        "m, n = 2,2\n",
        "i,t=-0,0\n",
        "for j in range(-n,n+1):\n",
        "  if j%2==0 :\n",
        "    k = j//2\n",
        "    xs = pylab.linspace(-1+2*t,1+2*t,100)\n",
        "    ys1 = [2*k+(1-(x-2*t)**2)**0.5 for x in xs]\n",
        "    ys2 = [2*k+(-1)*(1-(x-2*t)**2)**0.5 for x in xs]\n",
        "    ys3 = [0.2+2*k for x in xs]\n",
        "    ys4 = [-0.2+2*k for x in xs]\n",
        "    ys5 = pylab.linspace(-1+2*k,1+2*k,100)\n",
        "    xs1 = [0.2+2*t for y in ys5]\n",
        "    xs2 = [-0.2+2*t for y in ys5]\n",
        "    plt.plot(xs, ys1,color='w',lw=5)\n",
        "    plt.plot(xs, ys2,color='w',lw=5)\n",
        "    plt.plot(xs,ys3,color='w',lw=5)\n",
        "    plt.plot(xs,ys4,color='w',lw=5)\n",
        "    plt.plot(xs1,ys5,color='w',lw=5)\n",
        "    plt.plot(xs2,ys5,color='w',lw=5)\n",
        "plt.axis('off')\n",
        "plt.axis('equal')"
      ],
      "execution_count": null,
      "outputs": [
        {
          "output_type": "execute_result",
          "data": {
            "text/plain": [
              "(-1.1, 1.1, -3.3, 3.3)"
            ]
          },
          "metadata": {},
          "execution_count": 8
        },
        {
          "output_type": "display_data",
          "data": {
            "image/png": "[encoded data removed]",
            "text/plain": [
              "<Figure size 432x288 with 1 Axes>"
            ]
          },
          "metadata": {}
        }
      ]
    },
    {
      "cell_type": "code",
      "metadata": {
        "colab": {
          "base_uri": "https://localhost:8080/",
          "height": 265
        },
        "id": "d4u8y9iA_ECk",
        "outputId": "0ed2e279-7b33-4131-8266-ef0021ed2f9a"
      },
      "source": [
        "import matplotlib.pyplot as plt\n",
        "plt.figure(facecolor='blue')#edgecolor='black')\n",
        "m, n = 2,2\n",
        "#0i,t=-0,0\n",
        "for i in range(-m,m+1):\n",
        "  if i%2==0:\n",
        "    t = i//2\n",
        "  for j in range(-n,n+1):\n",
        "    if j%2==0 :\n",
        "      k = j//2\n",
        "      xs = pylab.linspace(-1+2*t,1+2*t,100)\n",
        "      ys1 = [2*k+(1-(x-2*t)**2)**0.5 for x in xs]\n",
        "      ys2 = [2*k+(-1)*(1-(x-2*t)**2)**0.5 for x in xs]\n",
        "      ys3 = [0.2+2*k for x in xs]\n",
        "      ys4 = [-0.2+2*k for x in xs]\n",
        "      ys5 = pylab.linspace(-1+2*k,1+2*k,100)\n",
        "      xs1 = [0.2+2*t for y in ys5]\n",
        "      xs2 = [-0.2+2*t for y in ys5]\n",
        "      plt.plot(xs, ys1,color='w',lw=5)\n",
        "      plt.plot(xs, ys2,color='w',lw=5)\n",
        "      plt.plot(xs,ys3,color='w',lw=5)\n",
        "      plt.plot(xs,ys4,color='w',lw=5)\n",
        "      plt.plot(xs1,ys5,color='w',lw=5)\n",
        "      plt.plot(xs2,ys5,color='w',lw=5)\n",
        "plt.axis('off')\n",
        "plt.axis('equal')"
      ],
      "execution_count": null,
      "outputs": [
        {
          "output_type": "execute_result",
          "data": {
            "text/plain": [
              "(-3.3, 3.3, -3.3, 3.3)"
            ]
          },
          "metadata": {},
          "execution_count": 9
        },
        {
          "output_type": "display_data",
          "data": {
            "image/png": "[encoded data removed]",
            "text/plain": [
              "<Figure size 432x288 with 1 Axes>"
            ]
          },
          "metadata": {}
        }
      ]
    },
    {
      "cell_type": "code",
      "metadata": {
        "id": "RS-G__7vJgmL"
      },
      "source": [
        ""
      ],
      "execution_count": null,
      "outputs": []
    }
  ]
}